{
 "cells": [
  {
   "cell_type": "markdown",
   "metadata": {},
   "source": [
    "# Confidence Intervals"
   ]
  },
  {
   "cell_type": "code",
   "execution_count": 1,
   "metadata": {},
   "outputs": [],
   "source": [
    "# Libraries\n",
    "import numpy as np\n",
    "import matplotlib.pyplot as plt\n",
    "from scipy import stats\n",
    "from scipy.stats import norm\n",
    "import math\n"
   ]
  },
  {
   "cell_type": "markdown",
   "metadata": {},
   "source": [
    "## Challenge 1\n",
    "We want to estimate the average size of the men of a country with a confidence level of 80%. Assuming that the standard deviation of the sizes in the population is 4, get the confidence interval with a sample of men selected randomly, whose heights are:\n",
    "\n",
    "````\n",
    "heights = [167, 167, 168, 168, 168, 169, 171, 172, 173, 175, 175, 175, 177, 182, 195]\n",
    "````\n",
    "\n",
    "**Hint**: function `stats.norm.interval` from `scipy` can help you get through this exercise. "
   ]
  },
  {
   "cell_type": "code",
   "execution_count": 26,
   "metadata": {},
   "outputs": [
    {
     "data": {
      "text/plain": [
       "[168.34046040448825, 178.59287292884508]"
      ]
     },
     "execution_count": 26,
     "metadata": {},
     "output_type": "execute_result"
    }
   ],
   "source": [
    "heights = [167, 167, 168, 168, 168, 169, 171, 172, 173, 175, 175, 175, 177, 182, 195]\n",
    "\n",
    "list(stats.norm.interval(0.80, loc = np.mean(heights), scale = 4))"
   ]
  },
  {
   "cell_type": "markdown",
   "metadata": {},
   "source": [
    "## Challenge 2 \n",
    "In a sample of 105 shops selected randomly from an area, we note that 27 of them have had losses in this month. Get an interval for the proportion of businesses in the area with losses to a confidence level of 80% and a confidence level of 90%.\n",
    "\n",
    "**Hint**: function `stats.norm.interval` from `scipy` can help you get through this exercise. "
   ]
  },
  {
   "cell_type": "code",
   "execution_count": 27,
   "metadata": {},
   "outputs": [
    {
     "name": "stdout",
     "output_type": "stream",
     "text": [
      "[0.20248138545542083, 0.3118043288302934]\n",
      "[0.1869856177645281, 0.3273000965211861]\n"
     ]
    }
   ],
   "source": [
    "p = 27/105\n",
    "n = 105\n",
    "std = math.sqrt((p*(1-p))/n)\n",
    "\n",
    "CI_80 = stats.norm.interval(0.80, loc = p, scale = std)\n",
    "CI_90 = stats.norm.interval(0.90, loc = p, scale = std)\n",
    "\n",
    "print(list(CI_80))\n",
    "print(list(CI_90))"
   ]
  },
  {
   "cell_type": "markdown",
   "metadata": {},
   "source": [
    "## Bonus Challenge\n",
    "The error level or sampling error for the first challenge is given by the following expression:\n",
    "$$Error = z_{\\frac{\\alpha}{2}}\\frac{\\sigma}{\\sqrt n}$$\n",
    "Where z represents the value for N(0,1)\n",
    "\n",
    "\n",
    "Suppose that with the previous data of challenge 1, and with a confidence level of\n",
    "99% (that is, almost certainly) we want to estimate the average population size, so that the error level committed is not greater than half a centimeter.\n",
    "\n",
    "#### 1.- Determine what size the selected sample of men should be."
   ]
  },
  {
   "cell_type": "code",
   "execution_count": 4,
   "metadata": {},
   "outputs": [
    {
     "name": "stdout",
     "output_type": "stream",
     "text": [
      "The average population size needs to be 424.63\n"
     ]
    }
   ],
   "source": [
    "#what size the selected sample of men should be\n",
    "#n = ?\n",
    "#Error = z-score * std /square(len(n)) =0.5\n",
    "#n = (z*sqtd/Error)**2\n",
    "\n",
    "#z-score - use the positive z score --> add [1]\n",
    "\n",
    "e = 0.5\n",
    "std = 4\n",
    "z = stats.norm.interval(0.99)[1]\n",
    "z\n",
    "\n",
    "n = (z*std/e)**2\n",
    "n = round(n,2)\n",
    "print('The average population size needs to be', n)"
   ]
  },
  {
   "cell_type": "markdown",
   "metadata": {},
   "source": [
    "#### 2.- For the second challenge, we have the following error:\n",
    "$$ Error = z_{\\frac{\\alpha}{2}}\\sqrt{\\frac{p\\times q}{n}} $$\n",
    "#### Determine the sample size required to not exceed an error of 1% with a confidence of 80%."
   ]
  },
  {
   "cell_type": "code",
   "execution_count": 8,
   "metadata": {},
   "outputs": [
    {
     "name": "stdout",
     "output_type": "stream",
     "text": [
      "The sample required size is 3137.0\n"
     ]
    }
   ],
   "source": [
    "#deriving from the formula\n",
    "#n =(z**2*p*q)/e**2\n",
    "\n",
    "p = 27/105 #error\n",
    "q = 1 -p \n",
    "\n",
    "z = stats.norm.interval(0.8)[1]\n",
    "e = 0.01\n",
    "\n",
    "n =(z**2*p*q)/e**2\n",
    "n = round(n)\n",
    "print('The sample required size is', n)"
   ]
  },
  {
   "cell_type": "markdown",
   "metadata": {},
   "source": [
    "## Bonus Challenge\n",
    "\n",
    "Let's consider the following problem:\n",
    "\n",
    "Build a confidence interval of 94% for the real difference between the durations of two brands of spotlights, if a sample of 40 spotlights taken randomly from the first mark gave an average duration of 418 hours, and a sample of 50 bulbs of another brand gave a duration average of 402 hours. The standard deviations of the two\n",
    "populations are 26 hours and 22 hours, respectively.\n",
    "\n",
    "Sometimes, we will be interested in the difference of two different groups of random variables. We can also build a confidence interval for that! We have some different cases regarding the variance but for this specific case (the variance are different and known), we have that:\n",
    "\n",
    "$$\\overline{X} - \\overline{Y}  \\sim N(\\mu_{X} - \\mu_{Y} , \\sqrt{\\frac{\\sigma_{X}^2}{n_X}+\\frac{\\sigma_{Y}^2}{n_Y}})$$\n",
    "\n",
    "Solve the problem with this information."
   ]
  },
  {
   "cell_type": "code",
   "execution_count": 24,
   "metadata": {},
   "outputs": [
    {
     "name": "stdout",
     "output_type": "stream",
     "text": [
      "[6.303419026585921, 25.69658097341408]\n"
     ]
    }
   ],
   "source": [
    "# GOAL --> build a CI of 94% \n",
    "mean_x = 418\n",
    "mean_y = 402\n",
    "mean = mean_x - mean_y\n",
    "\n",
    "nx = 40\n",
    "ny = 50\n",
    "\n",
    "std_x = 26\n",
    "std_y = 22\n",
    "\n",
    "std = math.sqrt(std_x**2/nx+std_y**2/ny)\n",
    "std\n",
    "\n",
    "CI_94 = stats.norm.interval(0.94, loc = mean, scale = std)\n",
    "\n",
    "print(list((CI_94)))"
   ]
  }
 ],
 "metadata": {
  "kernelspec": {
   "display_name": "Python 3",
   "language": "python",
   "name": "python3"
  },
  "language_info": {
   "codemirror_mode": {
    "name": "ipython",
    "version": 3
   },
   "file_extension": ".py",
   "mimetype": "text/x-python",
   "name": "python",
   "nbconvert_exporter": "python",
   "pygments_lexer": "ipython3",
   "version": "3.7.4"
  }
 },
 "nbformat": 4,
 "nbformat_minor": 2
}
